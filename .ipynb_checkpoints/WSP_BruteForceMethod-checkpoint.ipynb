{
 "cells": [
  {
   "cell_type": "code",
   "execution_count": null,
   "id": "96fc2306",
   "metadata": {},
   "outputs": [],
   "source": [
    "# Rev Apr 2021\n",
    "# By Zhijing Eu (zhijingeu@yahoo.com)\n",
    "# This notebook demonstrates how to use a Brute Force Search method to \n",
    "# solve the Wedding Seating Arrangement Problem"
   ]
  },
  {
   "cell_type": "code",
   "execution_count": null,
   "id": "cafd31b1",
   "metadata": {},
   "outputs": [],
   "source": [
    "import pandas as pd\n",
    "import numpy as np\n",
    "import random\n",
    "import math\n",
    "import functools\n",
    "import operator\n",
    "import networkx as nx"
   ]
  },
  {
   "cell_type": "code",
   "execution_count": null,
   "id": "9c069799",
   "metadata": {},
   "outputs": [],
   "source": [
    "InputFileName=\"Example_Guests30pax_TableSize8pax.xls\"\n",
    "\n",
    "GuestListRaw = pd.read_excel(InputFileName, 'GuestList')\n",
    "# RelMatrixRawList=RelMatrixRaw.values.tolist()\n",
    "GuestList=GuestListRaw[\"Guest\"].values.tolist()"
   ]
  },
  {
   "cell_type": "code",
   "execution_count": null,
   "id": "188357d9",
   "metadata": {},
   "outputs": [],
   "source": [
    "GuestList"
   ]
  },
  {
   "cell_type": "code",
   "execution_count": null,
   "id": "54b746b8",
   "metadata": {},
   "outputs": [],
   "source": [
    "RelMatrixRaw=GuestListRaw.dropna(thresh=2)\n",
    "RelMatrixRaw"
   ]
  },
  {
   "cell_type": "code",
   "execution_count": null,
   "id": "125a8661",
   "metadata": {},
   "outputs": [],
   "source": [
    "RelMatrixRawList=RelMatrixRaw.values.tolist()\n",
    "\n",
    "RelGuest=[]\n",
    "RelConditionsTogether=[]\n",
    "RelConditionsApart=[]\n",
    "for element in RelMatrixRawList:\n",
    "    RelGuest.append(element[0])\n",
    "    RelConditionsTogether.append([element[1],element[2],element[3]])\n",
    "    RelConditionsApart.append([element[4],element[5],element[6]])\n"
   ]
  },
  {
   "cell_type": "code",
   "execution_count": null,
   "id": "644b2d2e",
   "metadata": {},
   "outputs": [],
   "source": [
    "noOfGuests=len(GuestList)\n",
    "table_size = pd.read_excel(\"WSPInput.xls\", 'TableSize').columns[1]\n",
    "table_count = len(GuestList) // table_size\n",
    "if len(GuestList)%table_size==0:\n",
    "    blank_seats=[]\n",
    "if len(GuestList)%table_size!=0:\n",
    "    blank_seats=list(range(1,((table_count+1)*table_size-len(GuestList))+1))\n",
    "    blank_seats=[\"Spare-\"+str(x) for x in blank_seats]\n",
    "GuestList=GuestList+blank_seats\n",
    "len(GuestList)\n",
    "noOfGuests=len(GuestList)\n",
    "print(noOfGuests)"
   ]
  },
  {
   "cell_type": "code",
   "execution_count": null,
   "id": "b9fc4fa6",
   "metadata": {},
   "outputs": [],
   "source": [
    "RandomArrangement=[]\n",
    "\n",
    "print(\"No Of Guests=\",str(noOfGuests))\n",
    "print(\"Table Size=\",str(table_size))\n",
    "print(\"Required No Of Tables=\",str(int(noOfGuests/table_size)))"
   ]
  },
  {
   "cell_type": "code",
   "execution_count": null,
   "id": "c5e653bb",
   "metadata": {},
   "outputs": [],
   "source": [
    "#Generates a random arrangement as \"Seed\" for simulation\n",
    "for i in range(1,int(noOfGuests/table_size)+1):\n",
    "    RandomArrangement.extend([i]*table_size)\n",
    "random.shuffle(RandomArrangement)\n",
    "RandomArrangement"
   ]
  },
  {
   "cell_type": "code",
   "execution_count": null,
   "id": "e8cd70b4",
   "metadata": {},
   "outputs": [],
   "source": [
    "#Generates Initial Random Seed For Simulation \n",
    "SeatingArrangementStep0=list(zip(GuestList, RandomArrangement))\n",
    "SeatingArrangementStep0"
   ]
  },
  {
   "cell_type": "code",
   "execution_count": null,
   "id": "aa24f377",
   "metadata": {},
   "outputs": [],
   "source": [
    "#As per above but ordered by Table No\n",
    "SeatingArrangementSortedByTable = sorted(SeatingArrangementStep0, key = lambda x: x[1])\n",
    "SeatingArrangementSortedByTable"
   ]
  },
  {
   "cell_type": "code",
   "execution_count": null,
   "id": "af107d0e",
   "metadata": {},
   "outputs": [],
   "source": [
    "# Translates list into a list of lists with tuples for Guest/Table No\n",
    "SeatingArrangementSortedByTableChunked=[SeatingArrangementSortedByTable[i:i + int(table_size)] for i in range(0, len(SeatingArrangementSortedByTable), int(table_size))]\n",
    "SeatingArrangementSortedByTableChunked\n",
    "\n",
    "for i in range (0,int(noOfGuests/table_size)):\n",
    "    print(\"Table No \",str(i+1))\n",
    "    print(list(zip(*SeatingArrangementSortedByTableChunked[i]))[0])\n",
    "    print(\" \")"
   ]
  },
  {
   "cell_type": "code",
   "execution_count": null,
   "id": "e8ae2fb3",
   "metadata": {},
   "outputs": [],
   "source": [
    "#Demonstration of a SINGLE ITERATION to show how conditions are tested\n",
    "\n",
    "Score=0\n",
    "\n",
    "for i in range (0,int(noOfGuests/table_size)):\n",
    "    print(\" \")\n",
    "    print(\"Table No \",str(i+1))\n",
    "    print(\"-------------------\")\n",
    "    print(\"Assigned Guests\")\n",
    "    print(list(zip(*SeatingArrangementSortedByTableChunked[i]))[0])\n",
    "    for element in list(zip(*SeatingArrangementSortedByTableChunked[i]))[0]:\n",
    "    #check if something is inside a list:\n",
    "        \n",
    "        if element in RelGuest:\n",
    "            print(\" \")\n",
    "            print(element+\" has conditions:\")\n",
    "            print(\">Must be together with: \")\n",
    "            print(RelConditionsTogether[RelGuest.index(element)])\n",
    "            \n",
    "            for j in range(0,3):\n",
    "                try: \n",
    "                    if math.isnan(RelConditionsTogether[RelGuest.index(element)][j])==True:\n",
    "                        print(\"PASS\")\n",
    "                        print(\"...\")\n",
    "                except TypeError:\n",
    "                    if RelConditionsTogether[RelGuest.index(element)][j] in list(zip(*SeatingArrangementSortedByTableChunked[i]))[0]:    \n",
    "                        print(\"Condition For \"+element+\" To Be Together With \")\n",
    "                        print(RelConditionsTogether[RelGuest.index(element)][j])\n",
    "                        print(\"PASS\")\n",
    "                        print(\"...\")\n",
    "                    else:\n",
    "                        print(\"Condition For \"+element+\" To Be Together With \")\n",
    "                        print(RelConditionsTogether[RelGuest.index(element)][j])\n",
    "                        print(\"FAIL\")\n",
    "                        print(\"...\")\n",
    "                        Score += 1\n",
    "                        \n",
    "            print(\">Must be apart from: \")\n",
    "            \n",
    "            print(RelConditionsApart[RelGuest.index(element)])\n",
    "            \n",
    "            for k in range(0,3):\n",
    "                try: \n",
    "                    if math.isnan(RelConditionsApart[RelGuest.index(element)][k])==True:\n",
    "                        print(\"PASS\")\n",
    "                        print(\"...\")\n",
    "                except TypeError:\n",
    "                    if RelConditionsApart[RelGuest.index(element)][k] in list(zip(*SeatingArrangementSortedByTableChunked[i]))[0]:    \n",
    "                        print(\"Condition For \"+element+\" To Be Apart From \")\n",
    "                        print(RelConditionsApart[RelGuest.index(element)][k])\n",
    "                        print(\"FAIL\")\n",
    "                        print(\"...\")\n",
    "                        Score += 1\n",
    "                    else:\n",
    "                        print(\"Condition For \"+element+\" To Be Apart From \")\n",
    "                        print(RelConditionsApart[RelGuest.index(element)][k])\n",
    "                        print(\"PASS\")\n",
    "                        print(\"...\")\n",
    "            \n",
    "        else:\n",
    "            print(\" \")\n",
    "            print(element+\" has no conditions:\")\n",
    "\n",
    "print(\"------------------\")\n",
    "print(\"OVERALL SCORE:\")\n",
    "print(Score)\n",
    "    \n"
   ]
  },
  {
   "cell_type": "code",
   "execution_count": null,
   "id": "ecc387f9",
   "metadata": {},
   "outputs": [],
   "source": [
    "# RUN LOOPS TO X Iterations , Store Last \"Best\" Score\n",
    "\n",
    "maxIterations=1000\n",
    "\n",
    "BestSoFar=100000 #Set to very high number to initialize it\n",
    "BestSoFarArrangement=[]\n",
    "\n",
    "for l in range(0,maxIterations):\n",
    "    \n",
    "    SeatingArrangementStep0=list(zip(GuestList, RandomArrangement))\n",
    "\n",
    "    SeatingArrangementSortedByTable = sorted(SeatingArrangementStep0, key = lambda x: x[1])     \n",
    "\n",
    "    SeatingArrangementSortedByTableChunked=[SeatingArrangementSortedByTable[i:i + int(table_size)] for i in range(0, len(SeatingArrangementSortedByTable), int(table_size))]\n",
    "\n",
    "\n",
    "    Score=0\n",
    "    \n",
    "    for i in range (0,int(noOfGuests/table_size)):\n",
    "        for element in list(zip(*SeatingArrangementSortedByTableChunked[i]))[0]:\n",
    "        #check if something is inside a list:\n",
    "\n",
    "            if element in RelGuest:\n",
    "                for j in range(0,3):\n",
    "                    try: \n",
    "                        if math.isnan(RelConditionsTogether[RelGuest.index(element)][j])==True:\n",
    "                            pass\n",
    "                    except TypeError:\n",
    "                        if RelConditionsTogether[RelGuest.index(element)][j] in list(zip(*SeatingArrangementSortedByTableChunked[i]))[0]:    \n",
    "                            pass\n",
    "                        else:\n",
    "                            Score += 1\n",
    "\n",
    "                for k in range(0,3):\n",
    "                    try: \n",
    "                        if math.isnan(RelConditionsApart[RelGuest.index(element)][k])==True:\n",
    "                            pass\n",
    "                    except TypeError:\n",
    "                        if RelConditionsApart[RelGuest.index(element)][k] in list(zip(*SeatingArrangementSortedByTableChunked[i]))[0]:    \n",
    "                            Score += 1\n",
    "                        else:\n",
    "                            pass\n",
    "            else:\n",
    "                pass\n",
    "    \n",
    "    print(\"Iteration\",str(l),\"Score=\",str(Score)) \n",
    "\n",
    "    if Score<BestSoFar:\n",
    "        BestSoFar=Score\n",
    "        BestSoFarArrangement=RandomArrangement.copy()\n",
    "    else:\n",
    "        pass\n",
    "    \n",
    "    if Score>0:\n",
    "        random.shuffle(RandomArrangement)\n",
    "    else:\n",
    "        break"
   ]
  },
  {
   "cell_type": "code",
   "execution_count": null,
   "id": "535f6626",
   "metadata": {},
   "outputs": [],
   "source": [
    "if Score!=0:\n",
    "    print(\" \")\n",
    "    print(\"WARNING : Unable To Find Ideal Solution With Score=0\")\n",
    "    print(\"Best Score Out Of:\",str(maxIterations),\"Random Iterations Was Score=\",str(BestSoFar))\n",
    "    print(\"Best Arrangement Found : \")\n",
    "    print(\" \")\n",
    "    BestSoFarSeatingArrangement=list(zip(GuestList, RandomArrangement))\n",
    "    \n",
    "    BestSoFarSeatingArrangementSortedByTable = sorted(BestSoFarSeatingArrangement, key = lambda x: x[1])\n",
    "    BestSoFarSeatingArrangementSortedByTableChunked=[BestSoFarSeatingArrangementSortedByTable[i:i + int(table_size)] for i in range(0, len(BestSoFarSeatingArrangementSortedByTable), int(table_size))]\n",
    "    \n",
    "    FinalSeatingArrangementSortedByTableFlat = functools.reduce(operator.iconcat, BestSoFarSeatingArrangementSortedByTableChunked, [])\n",
    "\n",
    "elif Score==0:\n",
    "    print(\" \")\n",
    "    print(\"SUCCESS: Found Ideal Solution With Score=0\")\n",
    "    print(\"Ideal Arrangement Found : \")\n",
    "    print(\" \")\n",
    "    FinalSeatingArrangementSortedByTableFlat = functools.reduce(operator.iconcat, SeatingArrangementSortedByTableChunked, [])\n",
    "\n",
    "FinalSeatingArrangementSortedByTableUnzipped = zip(*FinalSeatingArrangementSortedByTableFlat)\n",
    "FinalSeatingArrangementSortedByTableUnzippedList = list(FinalSeatingArrangementSortedByTableUnzipped)\n",
    "FinalSeatingArrangementDF=pd.DataFrame(FinalSeatingArrangementSortedByTableUnzippedList).T\n",
    "FinalSeatingArrangementDF.columns=[\"Guest\",\"Assigned Table\"]\n",
    "    \n",
    "with pd.option_context('display.max_rows', None, 'display.max_columns', None):  # more options can be specified also\n",
    "    print(FinalSeatingArrangementDF)"
   ]
  },
  {
   "cell_type": "code",
   "execution_count": null,
   "id": "40a94257",
   "metadata": {},
   "outputs": [],
   "source": [
    "FinalSeatingArrangementWConditions = pd.merge(FinalSeatingArrangementDF,RelMatrixRaw,on ='Guest',how='left')\n",
    "\n",
    "FinalSeatingArrangementWConditions =FinalSeatingArrangementWConditions[[\"Guest\",\"Assigned Table\",\"Together1\",\"Together2\",\"Together3\",\"Apart1\",\"Apart2\",\"Apart3\"]]\n",
    "\n",
    "FinalSeatingArrangementWConditions "
   ]
  },
  {
   "cell_type": "code",
   "execution_count": null,
   "id": "1101aba4",
   "metadata": {},
   "outputs": [],
   "source": [
    "#EXPORT RESULTS TO CSV\n",
    "FinalSeatingArrangementWConditions.to_csv(\"Output_BruteForce_\"+InputFileName.strip('.xls')+\".csv\")"
   ]
  },
  {
   "cell_type": "code",
   "execution_count": null,
   "id": "0a1529c4",
   "metadata": {},
   "outputs": [],
   "source": [
    "#Optional Code - Generates Relationship Edges for Use With Other Notebook That Uses Simulated Annealing\n",
    "\n",
    "# RelMatrixRaw\n",
    "# relationships_edges={}\n",
    "# Together1=RelMatrixRaw[[\"Guest\",\"Together1\"]].dropna(thresh=2)\n",
    "# Together2=RelMatrixRaw[[\"Guest\",\"Together2\"]].dropna(thresh=2)\n",
    "# Together3=RelMatrixRaw[[\"Guest\",\"Together3\"]].dropna(thresh=2)\n",
    "# Together1.columns=[\"Guest\",\"Together\"]\n",
    "# Together2.columns=[\"Guest\",\"Together\"]\n",
    "# Together3.columns=[\"Guest\",\"Together\"]\n",
    "# Together=pd.concat([Together1,Together2,Together3])\n",
    "# Apart1=RelMatrixRaw[[\"Guest\",\"Apart1\"]].dropna(thresh=2)\n",
    "# Apart2=RelMatrixRaw[[\"Guest\",\"Apart2\"]].dropna(thresh=2)\n",
    "# Apart3=RelMatrixRaw[[\"Guest\",\"Apart3\"]].dropna(thresh=2)\n",
    "# Apart1.columns=[\"Guest\",\"Apart\"]\n",
    "# Apart2.columns=[\"Guest\",\"Apart\"]\n",
    "# Apart3.columns=[\"Guest\",\"Apart\"]\n",
    "# Apart=pd.concat([Apart1,Apart2,Apart3])\n",
    "# for element in list(zip(Together[\"Guest\"], Together[\"Together\"])):\n",
    "#         relationships_edges.update({element:-50})\n",
    "# for element in list(zip(Apart[\"Guest\"], Apart[\"Apart\"])):\n",
    "#         relationships_edges.update({element:50})                \n",
    "# relationships_edges"
   ]
  },
  {
   "cell_type": "code",
   "execution_count": null,
   "id": "6cb7ea04",
   "metadata": {},
   "outputs": [],
   "source": []
  },
  {
   "cell_type": "code",
   "execution_count": null,
   "id": "dc2c929f",
   "metadata": {},
   "outputs": [],
   "source": []
  },
  {
   "cell_type": "code",
   "execution_count": null,
   "id": "37bd8e67",
   "metadata": {},
   "outputs": [],
   "source": []
  }
 ],
 "metadata": {
  "kernelspec": {
   "display_name": "Python 3",
   "language": "python",
   "name": "python3"
  },
  "language_info": {
   "codemirror_mode": {
    "name": "ipython",
    "version": 3
   },
   "file_extension": ".py",
   "mimetype": "text/x-python",
   "name": "python",
   "nbconvert_exporter": "python",
   "pygments_lexer": "ipython3",
   "version": "3.6.13"
  }
 },
 "nbformat": 4,
 "nbformat_minor": 5
}
