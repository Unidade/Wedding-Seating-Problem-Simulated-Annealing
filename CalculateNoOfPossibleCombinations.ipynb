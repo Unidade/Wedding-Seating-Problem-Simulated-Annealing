{
 "cells": [
  {
   "cell_type": "code",
   "execution_count": 1,
   "id": "c451e9a8",
   "metadata": {},
   "outputs": [],
   "source": [
    "# Rev Apr 2021\n",
    "# By Zhijing Eu (zhijingeu@yahoo.com)\n",
    "# This notebook is supplementary to the WSP_BruteForce and WSP_SimAnnealing \n",
    "# and allows users to get a feel of how many possible combinations are possible"
   ]
  },
  {
   "cell_type": "code",
   "execution_count": 2,
   "id": "dfb110f6",
   "metadata": {},
   "outputs": [],
   "source": [
    "import pandas as pd\n",
    "import numpy as np\n",
    "import math\n",
    "import itertools"
   ]
  },
  {
   "cell_type": "code",
   "execution_count": 3,
   "id": "d55e2343",
   "metadata": {},
   "outputs": [],
   "source": [
    "#Manually Set No Of Guests and Table Size \n",
    "noOfElements=32\n",
    "r=8\n",
    "\n",
    "#OR Uncomment Below To Import From Excel Tool Input File\n",
    "\n",
    "# InputFileName=\"Example_Guests30pax_TableSize8pax.xls\"\n",
    "\n",
    "# GuestListRaw = pd.read_excel(InputFileName, 'GuestList')\n",
    "# # RelMatrixRawList=RelMatrixRaw.values.tolist()\n",
    "# GuestList=GuestListRaw[\"Guest\"].values.tolist()\n",
    "# noOfGuests=len(GuestList)\n",
    "# table_size = pd.read_excel(\"WSPInput.xls\", 'TableSize').columns[1]\n",
    "# table_count = len(GuestList) // table_size\n",
    "# if len(GuestList)%table_size==0:\n",
    "#     blank_seats=[]\n",
    "# if len(GuestList)%table_size!=0:\n",
    "#     blank_seats=list(range(1,((table_count+1)*table_size-len(GuestList))+1))\n",
    "#     blank_seats=[\"Spare-\"+str(x) for x in blank_seats]\n",
    "# GuestList=GuestList+blank_seats\n",
    "# table_count = len(GuestList) // table_size\n",
    "# noOfGuests=len(GuestList)\n",
    "# print(\"No Of Guests:\",noOfGuests)\n",
    "# print(\"Size Per Table:\",table_size)\n",
    "# print(\"No Of Tables Required:\",table_count)\n",
    "\n",
    "# noOfElements=len(GuestList)\n",
    "# r=table_count\n",
    "\n"
   ]
  },
  {
   "cell_type": "code",
   "execution_count": 4,
   "id": "272eb1df",
   "metadata": {},
   "outputs": [
    {
     "name": "stdout",
     "output_type": "stream",
     "text": [
      "No Of Possible Combinations Of 32 Guests for 8 Tables = 4148378852099625.0\n"
     ]
    }
   ],
   "source": [
    "# CALCULATION METHOD 1 - Susceptible To Overflow Error If No Of Possible Combinations Increase\n",
    "\n",
    "#Count no of unique ways to arrange X elements in y even sized groups \n",
    "#https://math.stackexchange.com/questions/507681/problem-permutation-and-combination-in-how-many-ways-can-we-divide-12-studen\n",
    "\n",
    "s=list(range(1,noOfElements+1))\n",
    "\n",
    "NoOfCombinations=math.factorial(noOfElements)/((math.factorial(noOfElements/r))*(math.factorial(r)**(noOfElements/r)))\n",
    "\n",
    "print(\"No Of Possible Combinations Of\",noOfElements,\"Guests for\",r,\"Pax Per Tables =\",NoOfCombinations)\n"
   ]
  },
  {
   "cell_type": "code",
   "execution_count": 5,
   "id": "b46f4a88",
   "metadata": {},
   "outputs": [
    {
     "name": "stdout",
     "output_type": "stream",
     "text": [
      "No Of Possible Combinations Of 32 Guests for 8 Tables = 4148378852099620.5\n"
     ]
    }
   ],
   "source": [
    "# CALCULATION METHOD 2 (If Method 1 Fails)\n",
    "\n",
    "def nCr(n,r):\n",
    "    f = math.factorial\n",
    "    return f(n) / f(r) / f(n-r)\n",
    "\n",
    "# https://www.quora.com/What-are-the-method-to-calculate-nCr-in-Python-for-large-values-of-r-and-n\n",
    "\n",
    "def log_fact(n): \n",
    "    return sum(math.log10(i) for i in range(1, n+1)) \n",
    " \n",
    "def big_nCr(n, r): \n",
    "    a, b, c = log_fact(n), log_fact(r), log_fact(n-r) \n",
    "    return 10**(a-b-c) \n",
    "\n",
    "\n",
    "list_for_nCr=[]\n",
    "for i in range(0,int(noOfElements/r)):\n",
    "    list_for_nCr.append(noOfElements-i*r)\n",
    "list_of_nCr_vals=[]\n",
    "for element in list_for_nCr:\n",
    "    list_of_nCr_vals.append(big_nCr(element,r))\n",
    "list_of_nCr_vals\n",
    "NoOfArrangements=np.prod(list_of_nCr_vals)/math.factorial(noOfElements/r)\n",
    "\n",
    "print(\"No Of Possible Combinations Of\",noOfElements,\"Guests for\",r,\"Pax Per Table =\",NoOfArrangements)\n"
   ]
  },
  {
   "cell_type": "code",
   "execution_count": 7,
   "id": "60033625",
   "metadata": {},
   "outputs": [
    {
     "ename": "OverflowError",
     "evalue": "int too large to convert to float",
     "output_type": "error",
     "traceback": [
      "\u001b[1;31m---------------------------------------------------------------------------\u001b[0m",
      "\u001b[1;31mOverflowError\u001b[0m                             Traceback (most recent call last)",
      "\u001b[1;32m<ipython-input-7-f536e3851e30>\u001b[0m in \u001b[0;36m<module>\u001b[1;34m\u001b[0m\n\u001b[0;32m      5\u001b[0m \u001b[0ms\u001b[0m\u001b[1;33m=\u001b[0m\u001b[0mlist\u001b[0m\u001b[1;33m(\u001b[0m\u001b[0mrange\u001b[0m\u001b[1;33m(\u001b[0m\u001b[1;36m1\u001b[0m\u001b[1;33m,\u001b[0m\u001b[0mnoOfElements\u001b[0m\u001b[1;33m+\u001b[0m\u001b[1;36m1\u001b[0m\u001b[1;33m)\u001b[0m\u001b[1;33m)\u001b[0m\u001b[1;33m\u001b[0m\u001b[1;33m\u001b[0m\u001b[0m\n\u001b[0;32m      6\u001b[0m \u001b[1;33m\u001b[0m\u001b[0m\n\u001b[1;32m----> 7\u001b[1;33m \u001b[0mNoOfCombinations\u001b[0m\u001b[1;33m=\u001b[0m\u001b[0mmath\u001b[0m\u001b[1;33m.\u001b[0m\u001b[0mfactorial\u001b[0m\u001b[1;33m(\u001b[0m\u001b[0mnoOfElements\u001b[0m\u001b[1;33m)\u001b[0m\u001b[1;33m/\u001b[0m\u001b[1;33m(\u001b[0m\u001b[1;33m(\u001b[0m\u001b[0mmath\u001b[0m\u001b[1;33m.\u001b[0m\u001b[0mfactorial\u001b[0m\u001b[1;33m(\u001b[0m\u001b[0mnoOfElements\u001b[0m\u001b[1;33m/\u001b[0m\u001b[0mr\u001b[0m\u001b[1;33m)\u001b[0m\u001b[1;33m)\u001b[0m\u001b[1;33m*\u001b[0m\u001b[1;33m(\u001b[0m\u001b[0mmath\u001b[0m\u001b[1;33m.\u001b[0m\u001b[0mfactorial\u001b[0m\u001b[1;33m(\u001b[0m\u001b[0mr\u001b[0m\u001b[1;33m)\u001b[0m\u001b[1;33m**\u001b[0m\u001b[1;33m(\u001b[0m\u001b[0mnoOfElements\u001b[0m\u001b[1;33m/\u001b[0m\u001b[0mr\u001b[0m\u001b[1;33m)\u001b[0m\u001b[1;33m)\u001b[0m\u001b[1;33m)\u001b[0m\u001b[1;33m\u001b[0m\u001b[1;33m\u001b[0m\u001b[0m\n\u001b[0m\u001b[0;32m      8\u001b[0m \u001b[1;33m\u001b[0m\u001b[0m\n\u001b[0;32m      9\u001b[0m \u001b[0mprint\u001b[0m\u001b[1;33m(\u001b[0m\u001b[1;34m\"No Of Possible Combinations Of\"\u001b[0m\u001b[1;33m,\u001b[0m\u001b[0mnoOfElements\u001b[0m\u001b[1;33m,\u001b[0m\u001b[1;34m\"Guests for\"\u001b[0m\u001b[1;33m,\u001b[0m\u001b[0mr\u001b[0m\u001b[1;33m,\u001b[0m\u001b[1;34m\"Tables =\"\u001b[0m\u001b[1;33m,\u001b[0m\u001b[0mNoOfCombinations\u001b[0m\u001b[1;33m)\u001b[0m\u001b[1;33m\u001b[0m\u001b[1;33m\u001b[0m\u001b[0m\n",
      "\u001b[1;31mOverflowError\u001b[0m: int too large to convert to float"
     ]
    }
   ],
   "source": [
    "# # Example Of Failed Method 1\n",
    "# noOfElements=200\n",
    "# r=10\n",
    "\n",
    "# s=list(range(1,noOfElements+1))\n",
    "\n",
    "# NoOfCombinations=math.factorial(noOfElements)/((math.factorial(noOfElements/r))*(math.factorial(r)**(noOfElements/r)))\n",
    "\n",
    "# print(\"No Of Possible Combinations Of\",noOfElements,\"Guests for\",r,\"Tables =\",NoOfCombinations)\n"
   ]
  },
  {
   "cell_type": "code",
   "execution_count": 8,
   "id": "639327e8",
   "metadata": {},
   "outputs": [
    {
     "name": "stdout",
     "output_type": "stream",
     "text": [
      "No Of Possible Combinations Of 200 Guests for 10 Tables = 2.0677754063766086e+225\n"
     ]
    }
   ],
   "source": [
    "# # Example Of How Method 2 Still Works When Method 1 Fails\n",
    "# noOfElements=200\n",
    "# r=10\n",
    "# list_for_nCr=[]\n",
    "# for i in range(0,int(noOfElements/r)):\n",
    "#     list_for_nCr.append(noOfElements-i*r)\n",
    "# list_of_nCr_vals=[]\n",
    "# for element in list_for_nCr:\n",
    "#     list_of_nCr_vals.append(big_nCr(element,r))\n",
    "# list_of_nCr_vals\n",
    "# NoOfArrangements=np.prod(list_of_nCr_vals)/math.factorial(noOfElements/r)\n",
    "\n",
    "# print(\"No Of Possible Combinations Of\",noOfElements,\"Guests for\",r,\"Tables =\",NoOfArrangements)\n"
   ]
  },
  {
   "cell_type": "code",
   "execution_count": 6,
   "id": "35970e1a",
   "metadata": {},
   "outputs": [
    {
     "data": {
      "text/plain": [
       "[((1, 2, 3), (4, 5, 6)),\n",
       " ((1, 2, 4), (3, 5, 6)),\n",
       " ((1, 2, 5), (3, 4, 6)),\n",
       " ((1, 2, 6), (3, 4, 5)),\n",
       " ((1, 3, 4), (2, 5, 6)),\n",
       " ((1, 3, 5), (2, 4, 6)),\n",
       " ((1, 3, 6), (2, 4, 5)),\n",
       " ((1, 4, 5), (2, 3, 6)),\n",
       " ((1, 4, 6), (2, 3, 5)),\n",
       " ((1, 5, 6), (2, 3, 4))]"
      ]
     },
     "execution_count": 6,
     "metadata": {},
     "output_type": "execute_result"
    }
   ],
   "source": [
    "# WARNING ! MAY HANG IF TOO LARGE\n",
    "\n",
    "# Enumerates ALL possible ways to arrange X elements into identically sized sets of length Y\n",
    "\n",
    "# https://stackoverflow.com/questions/14559946/producing-all-groups-of-fixed-length-combinations\n",
    "\n",
    "from itertools import combinations\n",
    "\n",
    "def partitions(s, r):\n",
    "    \"\"\"\n",
    "    Generate partitions of the iterable `s` into subsets of size `r`.\n",
    "\n",
    "    >>> list(partitions(set(range(4)), 2))\n",
    "    [((0, 1), (2, 3)), ((0, 2), (1, 3)), ((0, 3), (1, 2))]\n",
    "    \"\"\"\n",
    "    s = set(s)\n",
    "    assert(len(s) % r == 0)\n",
    "    if len(s) == 0:\n",
    "        yield ()\n",
    "        return\n",
    "    first = next(iter(s))\n",
    "    rest = s.difference((first,))\n",
    "    for c in combinations(rest, r - 1):\n",
    "        first_subset = (first,) + c\n",
    "        for p in partitions(rest.difference(c), r):\n",
    "            yield (first_subset,) + p\n",
    "        \n",
    "s=list(range(1,noOfElements+1))\n",
    "x=list(partitions(s,r))\n",
    "x"
   ]
  },
  {
   "cell_type": "code",
   "execution_count": null,
   "id": "de35950d",
   "metadata": {},
   "outputs": [],
   "source": []
  }
 ],
 "metadata": {
  "kernelspec": {
   "display_name": "Python 3",
   "language": "python",
   "name": "python3"
  },
  "language_info": {
   "codemirror_mode": {
    "name": "ipython",
    "version": 3
   },
   "file_extension": ".py",
   "mimetype": "text/x-python",
   "name": "python",
   "nbconvert_exporter": "python",
   "pygments_lexer": "ipython3",
   "version": "3.6.13"
  }
 },
 "nbformat": 4,
 "nbformat_minor": 5
}
